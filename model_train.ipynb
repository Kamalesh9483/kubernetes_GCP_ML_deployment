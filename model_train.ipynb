{
 "cells": [
  {
   "cell_type": "code",
   "execution_count": 8,
   "metadata": {},
   "outputs": [
    {
     "name": "stdout",
     "output_type": "stream",
     "text": [
      "   Size  Rooms  Age  Garage_Size  Location_Quality   Price\n",
      "0  1500      3   10          400                 4  300000\n",
      "1  2000      4    5          600                 5  450000\n",
      "2  1200      2   20          300                 3  200000\n",
      "3  1700      3   15          500                 4  350000\n",
      "4  1400      3    8          350                 3  280000\n"
     ]
    }
   ],
   "source": [
    "import pandas as pd\n",
    "\n",
    "# Load dataset\n",
    "data = pd.read_csv('home_prices.csv')\n",
    "print(data.head())\n",
    "\n"
   ]
  },
  {
   "cell_type": "code",
   "execution_count": 9,
   "metadata": {},
   "outputs": [],
   "source": [
    "from sklearn.model_selection import train_test_split\n",
    "from sklearn.linear_model import LinearRegression\n",
    "import numpy as np\n",
    "import scipy.io as sio\n",
    "\n",
    "# Prepare the features and target variable\n",
    "X = data[['Size', 'Rooms', 'Age', 'Garage_Size', 'Location_Quality']]\n",
    "y = data['Price']\n",
    "\n",
    "# Split the data into training and testing sets\n",
    "X_train, X_test, y_train, y_test = train_test_split(X, y, test_size=0.2, random_state=42)\n",
    "\n",
    "# Create and train the linear regression model\n",
    "model = LinearRegression()\n",
    "model.fit(X_train, y_train)\n",
    "\n",
    "# Save the model weights and biases\n",
    "weights = model.coef_\n",
    "bias = model.intercept_\n",
    "\n",
    "# Save to .mat file\n",
    "sio.savemat('model_weights.mat', {'weights': weights, 'biases': bias})\n"
   ]
  }
 ],
 "metadata": {
  "kernelspec": {
   "display_name": "venv",
   "language": "python",
   "name": "python3"
  },
  "language_info": {
   "codemirror_mode": {
    "name": "ipython",
    "version": 3
   },
   "file_extension": ".py",
   "mimetype": "text/x-python",
   "name": "python",
   "nbconvert_exporter": "python",
   "pygments_lexer": "ipython3",
   "version": "3.10.7"
  }
 },
 "nbformat": 4,
 "nbformat_minor": 2
}
